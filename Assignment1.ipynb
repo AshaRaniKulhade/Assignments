{
  "nbformat": 4,
  "nbformat_minor": 0,
  "metadata": {
    "colab": {
      "provenance": [],
      "authorship_tag": "ABX9TyOjx0NZdNsaER1iWAgW99Tq",
      "include_colab_link": true
    },
    "kernelspec": {
      "name": "python3",
      "display_name": "Python 3"
    },
    "language_info": {
      "name": "python"
    }
  },
  "cells": [
    {
      "cell_type": "markdown",
      "metadata": {
        "id": "view-in-github",
        "colab_type": "text"
      },
      "source": [
        "<a href=\"https://colab.research.google.com/github/AshaRaniKulhade/Assignments/blob/main/Assignment1.ipynb\" target=\"_parent\"><img src=\"https://colab.research.google.com/assets/colab-badge.svg\" alt=\"Open In Colab\"/></a>"
      ]
    },
    {
      "cell_type": "markdown",
      "source": [
        "## <u>Problem 1</u>\n",
        "\n",
        "In a cricket tournament, based on the outcome of a particular match a team gets following points:\n",
        "* <code>wins</code> gets <code>3</code> points\n",
        "* <code>draws</code> gets <code>1</code> points\n",
        "* <code>losses</code> gets <code>0</code> points\n",
        "\n",
        "Team Aravali plays <code>8</code> matches in this tournament. It wins <code>4</code> matches, loses <code>3</code> matches and draws <code>1</code>. What is the total number of points gained by the Team Aravali?"
      ],
      "metadata": {
        "id": "Am93QVH71wCU"
      }
    },
    {
      "cell_type": "code",
      "execution_count": null,
      "metadata": {
        "id": "6ELkjt0yzoZK"
      },
      "outputs": [],
      "source": [
        "# variables defined\n",
        "wins = 4\n",
        "losses = 3\n",
        "draws = 1\n",
        "\n"
      ]
    },
    {
      "cell_type": "code",
      "source": [
        "#Calculate the total points gained by Team Aravali\n",
        "aravali_points = 3*wins+draws-0*losses"
      ],
      "metadata": {
        "id": "UDJ56AP01c9W"
      },
      "execution_count": null,
      "outputs": []
    },
    {
      "cell_type": "code",
      "source": [
        "# Print the variable aravali_points\n",
        "print(\"Aravali Points =\",aravali_points)"
      ],
      "metadata": {
        "colab": {
          "base_uri": "https://localhost:8080/"
        },
        "id": "S5ZRljPN28k7",
        "outputId": "fa63896d-1a31-4935-db98-e2267125ad4d"
      },
      "execution_count": null,
      "outputs": [
        {
          "output_type": "stream",
          "name": "stdout",
          "text": [
            "Aravali Points = 13\n"
          ]
        }
      ]
    },
    {
      "cell_type": "markdown",
      "source": [
        "## <u>Problem 2 </u>\n",
        "\n",
        "* Root of a function $f(x)$ is defined as the value $x$ where $f(x)=0$\n",
        "* Consider a quadratic function $ f(x) = x^2 + 3x - 4$\n",
        "\n",
        "### Find the value of the function $f(x)$ at points   $x=2,x=-1, x=1$."
      ],
      "metadata": {
        "id": "X-nCDx22-CpX"
      }
    },
    {
      "cell_type": "code",
      "source": [
        "import math\n",
        "# Calculate the value of the function f(x) at x = 2\n",
        "x=2\n",
        "func_evaluated_at_2 = math.pow(x,2)+3*x-4\n"
      ],
      "metadata": {
        "id": "kYNYKMkA-Q8N"
      },
      "execution_count": null,
      "outputs": []
    },
    {
      "cell_type": "code",
      "source": [
        "print(\"f(x) evaluated at x=2 is \",func_evaluated_at_2)"
      ],
      "metadata": {
        "colab": {
          "base_uri": "https://localhost:8080/"
        },
        "id": "xfL4d-jnlpNG",
        "outputId": "eb11a7a6-e537-479f-e939-dd5263256c6e"
      },
      "execution_count": null,
      "outputs": [
        {
          "output_type": "stream",
          "name": "stdout",
          "text": [
            "f(x) evaluated at x=2  6.0\n"
          ]
        }
      ]
    },
    {
      "cell_type": "code",
      "source": [
        "# Calculate the value of the function f(x) at x = -1\n",
        "x=-1\n",
        "func_evaluated_at_minus1 =  math.pow(x,2)+3*x-4"
      ],
      "metadata": {
        "id": "7GyYeWCMjUGC"
      },
      "execution_count": null,
      "outputs": []
    },
    {
      "cell_type": "code",
      "source": [
        "print(\"f(x) evaluated at x=-1 is \",func_evaluated_at_minus1)"
      ],
      "metadata": {
        "colab": {
          "base_uri": "https://localhost:8080/"
        },
        "id": "00Zp9TTGmQlz",
        "outputId": "39344d19-986b-4e7f-fdeb-c6c2b9338a04"
      },
      "execution_count": null,
      "outputs": [
        {
          "output_type": "stream",
          "name": "stdout",
          "text": [
            "f(x) evaluated at x=-1  -6.0\n"
          ]
        }
      ]
    },
    {
      "cell_type": "code",
      "source": [
        "# Calculate the value of the function f(x) at x = 1\n",
        "x=1\n",
        "func_evaluated_at_1 = math.pow(x,2)+3*x-4"
      ],
      "metadata": {
        "id": "PcR1Swx5mWUX"
      },
      "execution_count": null,
      "outputs": []
    },
    {
      "cell_type": "code",
      "source": [
        "print(\"f(x)evaluated at x=1 is \",func_evaluated_at_1)"
      ],
      "metadata": {
        "colab": {
          "base_uri": "https://localhost:8080/"
        },
        "id": "K6xu_Vjgmhp8",
        "outputId": "4f39cbe9-44f3-4040-b726-fb9ac3e1ac89"
      },
      "execution_count": null,
      "outputs": [
        {
          "output_type": "stream",
          "name": "stdout",
          "text": [
            "f(x)evaluated at x=1  0.0\n"
          ]
        }
      ]
    },
    {
      "cell_type": "markdown",
      "source": [
        "Return the boolean for each value of x to find out whether that value is a root of f(x)"
      ],
      "metadata": {
        "id": "-uVbQnkdoYXu"
      }
    },
    {
      "cell_type": "code",
      "source": [
        "# Check whether 2 is a root of f(x)\n",
        "x=2\n",
        "#func_evaluated_at_2 = math.pow(x,2)+3*x-4\n",
        "print(math.isqrt(x)==func_evaluated_at_2)"
      ],
      "metadata": {
        "colab": {
          "base_uri": "https://localhost:8080/"
        },
        "id": "S-T1EYPlovjF",
        "outputId": "c00f58fc-a557-4d3d-eccf-95859faff571"
      },
      "execution_count": null,
      "outputs": [
        {
          "output_type": "stream",
          "name": "stdout",
          "text": [
            "False\n"
          ]
        }
      ]
    },
    {
      "cell_type": "code",
      "source": [
        "# Check whether -1 is a root of f(x)\n",
        "x=-1\n",
        "print(math.isqrt(x)==func_evaluated_at_minus1)"
      ],
      "metadata": {
        "colab": {
          "base_uri": "https://localhost:8080/",
          "height": 200
        },
        "id": "I_AhTX7qLJHD",
        "outputId": "35ac294a-784c-4dc6-cfea-3b860fe5c9d6"
      },
      "execution_count": null,
      "outputs": [
        {
          "output_type": "error",
          "ename": "ValueError",
          "evalue": "ignored",
          "traceback": [
            "\u001b[0;31m---------------------------------------------------------------------------\u001b[0m",
            "\u001b[0;31mValueError\u001b[0m                                Traceback (most recent call last)",
            "\u001b[0;32m<ipython-input-4-b6b6adb9163a>\u001b[0m in \u001b[0;36m<cell line: 3>\u001b[0;34m()\u001b[0m\n\u001b[1;32m      1\u001b[0m \u001b[0;31m# Check whether -1 is a root of f(x)\u001b[0m\u001b[0;34m\u001b[0m\u001b[0;34m\u001b[0m\u001b[0m\n\u001b[1;32m      2\u001b[0m \u001b[0mx\u001b[0m\u001b[0;34m=\u001b[0m\u001b[0;34m-\u001b[0m\u001b[0;36m1\u001b[0m\u001b[0;34m\u001b[0m\u001b[0;34m\u001b[0m\u001b[0m\n\u001b[0;32m----> 3\u001b[0;31m \u001b[0mprint\u001b[0m\u001b[0;34m(\u001b[0m\u001b[0mmath\u001b[0m\u001b[0;34m.\u001b[0m\u001b[0misqrt\u001b[0m\u001b[0;34m(\u001b[0m\u001b[0mx\u001b[0m\u001b[0;34m)\u001b[0m\u001b[0;34m==\u001b[0m\u001b[0mfunc_evaluated_at_minus1\u001b[0m\u001b[0;34m)\u001b[0m\u001b[0;34m\u001b[0m\u001b[0;34m\u001b[0m\u001b[0m\n\u001b[0m",
            "\u001b[0;31mValueError\u001b[0m: isqrt() argument must be nonnegative"
          ]
        }
      ]
    },
    {
      "cell_type": "code",
      "source": [
        "# Check whether 1 is a root of f(x)\n",
        "x=1\n",
        "print(math.isqrt(x)==func_evaluated_at_1)"
      ],
      "metadata": {
        "colab": {
          "base_uri": "https://localhost:8080/"
        },
        "id": "uJN7Gd4VLqC4",
        "outputId": "3e714db7-c007-4342-c399-7309cfc4fb38"
      },
      "execution_count": null,
      "outputs": [
        {
          "output_type": "stream",
          "name": "stdout",
          "text": [
            "False\n"
          ]
        }
      ]
    },
    {
      "cell_type": "markdown",
      "source": [
        "#Problem 3\n",
        "\n",
        "A bag contains 45 apples, 65 oranges and 30 bananas. Find the percentage of each type of food items in the bag."
      ],
      "metadata": {
        "id": "0lTisYpYMMwe"
      }
    },
    {
      "cell_type": "code",
      "source": [
        "apples = 45\n",
        "oranges = 65\n",
        "bananas = 30\n",
        "totalitems = apples+oranges+bananas"
      ],
      "metadata": {
        "id": "vrItORgOMZCK"
      },
      "execution_count": null,
      "outputs": []
    },
    {
      "cell_type": "code",
      "source": [
        "# Calculate the percentage of apples and print the variable\n",
        "applePercentage = apples/totalitems*100"
      ],
      "metadata": {
        "id": "wnLsnRibNSjF"
      },
      "execution_count": null,
      "outputs": []
    },
    {
      "cell_type": "code",
      "source": [
        "print(\"percentage of apples in bag is \",applePercentage)"
      ],
      "metadata": {
        "colab": {
          "base_uri": "https://localhost:8080/"
        },
        "id": "kvrL8_NvNqtG",
        "outputId": "9b4a718c-fbf5-4dce-db52-432c770584e4"
      },
      "execution_count": null,
      "outputs": [
        {
          "output_type": "stream",
          "name": "stdout",
          "text": [
            "percentage of apples in bag is  32.142857142857146\n"
          ]
        }
      ]
    },
    {
      "cell_type": "code",
      "source": [
        "# Calculate the percentage of oranges and print the variable\n",
        "orangesPercentage = oranges/totalitems*100"
      ],
      "metadata": {
        "id": "BIZm4db1OB5J"
      },
      "execution_count": null,
      "outputs": []
    },
    {
      "cell_type": "code",
      "source": [
        "print(\"Oranges percentage in bag is \",orangesPercentage)"
      ],
      "metadata": {
        "colab": {
          "base_uri": "https://localhost:8080/"
        },
        "id": "EqcBCz6KOPeV",
        "outputId": "fab65d19-2541-488d-b6e1-a61360e90809"
      },
      "execution_count": null,
      "outputs": [
        {
          "output_type": "stream",
          "name": "stdout",
          "text": [
            "Oranges percentage in bag is  46.42857142857143\n"
          ]
        }
      ]
    },
    {
      "cell_type": "code",
      "source": [
        "# Calculate the percentage of bananas and print the variable\n",
        "bananaPercent = bananas/totalitems*100"
      ],
      "metadata": {
        "id": "iRzvcPB0OXkN"
      },
      "execution_count": null,
      "outputs": []
    },
    {
      "cell_type": "code",
      "source": [
        "print(\"Banana percentage in bag is \",bananaPercent)"
      ],
      "metadata": {
        "colab": {
          "base_uri": "https://localhost:8080/"
        },
        "id": "TGS0tkpzOqiL",
        "outputId": "c3945381-f3fd-41a4-fcc6-67f5ce3e7237"
      },
      "execution_count": null,
      "outputs": [
        {
          "output_type": "stream",
          "name": "stdout",
          "text": [
            "Banana percentage in bag is  21.428571428571427\n"
          ]
        }
      ]
    },
    {
      "cell_type": "markdown",
      "source": [
        "#Problem 4\n",
        "\n",
        "You were playing a fun guessing game during your school break. There were a total of 100 participants excluding you. Out of these 100 people, 30 were Maths Majors, 45 were Economics Majors and 25 were Physics Majors.\n",
        "\n",
        "The game was divided into three rounds.\n",
        "\n",
        "In the first round, you had to guess the number of Maths Majors and you correctly guessed 20 of them.\n",
        "\n",
        "In the second round, you had to guess the number of Economics Majors and you correctly guessed 30 of them.\n",
        "\n",
        "In the final third round, you had to guess the number of Physics Majors and you correctly guessed 20 of them."
      ],
      "metadata": {
        "id": "gMGnqyC2O7TK"
      }
    },
    {
      "cell_type": "code",
      "source": [
        "#store variables\n",
        "you=1\n",
        "noOfMathMajors = 30\n",
        "noOfEconomicsMajors=45\n",
        "noOfPhysicsMajors=25\n",
        "guessedInMath = 20\n",
        "guessedInEconomics = 30\n",
        "guessedInPhysics =20"
      ],
      "metadata": {
        "id": "-tYuVzPrPbqf"
      },
      "execution_count": 23,
      "outputs": []
    },
    {
      "cell_type": "code",
      "source": [
        "# Print the Maths accuracy\n",
        "accuracyInMath = guessedInMath/(noOfMathMajors+you)*100\n",
        "print(\"Accuracy in Math is \",accuracyInMath)"
      ],
      "metadata": {
        "id": "MXxHrr9gSE7k",
        "colab": {
          "base_uri": "https://localhost:8080/"
        },
        "outputId": "d3bf381d-d60b-40ef-c0e6-303922cf35fa"
      },
      "execution_count": 24,
      "outputs": [
        {
          "output_type": "stream",
          "name": "stdout",
          "text": [
            "Accuracy in Math is  64.51612903225806\n"
          ]
        }
      ]
    },
    {
      "cell_type": "code",
      "source": [
        "# Print the Economics accuracy\n",
        "accuracyInEconomics = guessedInEconomics/(noOfEconomicsMajors+you)*100\n",
        "print(\"Accuracy In Economics \",accuracyInEconomics)"
      ],
      "metadata": {
        "colab": {
          "base_uri": "https://localhost:8080/"
        },
        "id": "IE4e9JNKTFVg",
        "outputId": "9104540a-1601-412e-d646-e3017549162b"
      },
      "execution_count": 25,
      "outputs": [
        {
          "output_type": "stream",
          "name": "stdout",
          "text": [
            "Accuracy In Economics  65.21739130434783\n"
          ]
        }
      ]
    },
    {
      "cell_type": "code",
      "source": [
        "# Print the Physics accuracy\n",
        "accuracyInPhysics = guessedInPhysics/(noOfPhysicsMajors+you)*100\n",
        "print(\"Accuracy in Physcics \",accuracyInPhysics)"
      ],
      "metadata": {
        "colab": {
          "base_uri": "https://localhost:8080/"
        },
        "id": "LncYvRdNTq6f",
        "outputId": "4e8b124e-fb08-45d0-8083-aeb38dbb4630"
      },
      "execution_count": 26,
      "outputs": [
        {
          "output_type": "stream",
          "name": "stdout",
          "text": [
            "Accuracy in Physcics  76.92307692307693\n"
          ]
        }
      ]
    },
    {
      "cell_type": "code",
      "source": [
        "# Print the overall accuracy\n",
        "overallAccuracy = (guessedInMath+guessedInEconomics+guessedInPhysics)/(noOfMathMajors+noOfEconomicsMajors+noOfPhysicsMajors+you)*100\n",
        "print(\"Overall accuracy is \",overallAccuracy)"
      ],
      "metadata": {
        "colab": {
          "base_uri": "https://localhost:8080/"
        },
        "id": "-cqgN82VUBdm",
        "outputId": "645a90a7-5ed9-4a53-b1d5-11a102183f59"
      },
      "execution_count": 27,
      "outputs": [
        {
          "output_type": "stream",
          "name": "stdout",
          "text": [
            "Overall accuracy is  69.3069306930693\n"
          ]
        }
      ]
    }
  ]
}